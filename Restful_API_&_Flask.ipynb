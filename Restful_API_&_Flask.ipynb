{
  "nbformat": 4,
  "nbformat_minor": 0,
  "metadata": {
    "colab": {
      "provenance": []
    },
    "kernelspec": {
      "name": "python3",
      "display_name": "Python 3"
    },
    "language_info": {
      "name": "python"
    }
  },
  "cells": [
    {
      "cell_type": "markdown",
      "source": [
        "#Q1. What is a RESTful API?\n",
        " =A RESTful API follows the principles of REST (Representational State Transfer). It allows communication between client and server using stateless HTTP methods like GET, POST, PUT, and DELETE to access and manipulate resources."
      ],
      "metadata": {
        "id": "T_VIo_MlfEiU"
      }
    },
    {
      "cell_type": "markdown",
      "source": [
        "#Q2. Explain the concept of API specification?\n",
        " =An API specification defines how an API behaves, detailing available endpoints, request/response formats, methods, and data structures. Examples include OpenAPI (Swagger), RAML, and API Blueprint."
      ],
      "metadata": {
        "id": "56aDNsNKfNZ5"
      }
    },
    {
      "cell_type": "markdown",
      "source": [
        "#Q3. What is Flask, and why is it popular for building APIs?\n",
        " =Flask is a lightweight Python web framework ideal for building APIs due to its simplicity, flexibility, built-in development server, and rich ecosystem (e.g., Flask-RESTful, Flask-SQLAlchemy)."
      ],
      "metadata": {
        "id": "Z5TmIdTzfVhb"
      }
    },
    {
      "cell_type": "markdown",
      "source": [
        "#Q4.What is routing in Flask?\n",
        " =Routing in Flask maps URLs to Python functions (view functions). Each route defines a path (like /home) and the function that should be executed when the route is accessed."
      ],
      "metadata": {
        "id": "JsSgk_eHfcJu"
      }
    },
    {
      "cell_type": "code",
      "source": [
        "from flask import Flask\n",
        "\n",
        "app = Flask(__name__)\n",
        "\n",
        "@app.route('/')\n",
        "def home():\n",
        "    return \"Hello, Flask!\"\n",
        "\n",
        "if __name__ == '__main__':\n",
        "    app.run()\n"
      ],
      "metadata": {
        "colab": {
          "base_uri": "https://localhost:8080/"
        },
        "id": "NnHKwPUTfi1t",
        "outputId": "7bac1639-1e0a-44a7-e52e-d3d17d05877e"
      },
      "execution_count": 11,
      "outputs": [
        {
          "output_type": "stream",
          "name": "stdout",
          "text": [
            " * Serving Flask app '__main__'\n",
            " * Debug mode: off\n"
          ]
        },
        {
          "output_type": "stream",
          "name": "stderr",
          "text": [
            "INFO:werkzeug:\u001b[31m\u001b[1mWARNING: This is a development server. Do not use it in a production deployment. Use a production WSGI server instead.\u001b[0m\n",
            " * Running on http://127.0.0.1:5000\n",
            "INFO:werkzeug:\u001b[33mPress CTRL+C to quit\u001b[0m\n"
          ]
        }
      ]
    },
    {
      "cell_type": "markdown",
      "source": [
        "#Q6.What are HTTP methods used in RESTful APIs?\n",
        " =GET (retrieve)\n",
        "\n",
        "POST (create)\n",
        "\n",
        "PUT (update/replace)\n",
        "\n",
        "PATCH (partial update)\n",
        "\n",
        "DELETE (remove)"
      ],
      "metadata": {
        "id": "CtlehVwLgKBY"
      }
    },
    {
      "cell_type": "markdown",
      "source": [
        "#Q7.What is the purpose of the @app.route() decorator in Flask?\n",
        " =It binds a URL path to a function, defining how the application responds to different HTTP requests."
      ],
      "metadata": {
        "id": "F4u8K273gO2F"
      }
    },
    {
      "cell_type": "markdown",
      "source": [
        "#Q8.M What is the difference between GET and POST HTTP methods?\n",
        " =GET: Requests data, no body, idempotent, parameters in URL.\n",
        "\n",
        "POST: Sends data to the server, body contains data, used for creation."
      ],
      "metadata": {
        "id": "eHFQr5pcgVIH"
      }
    },
    {
      "cell_type": "markdown",
      "source": [
        "#Q9.How do you handle errors in Flask APIs?\n",
        " =Use Flask’s @app.errorhandler() decorator or abort() function."
      ],
      "metadata": {
        "id": "rSUSoK1whOKq"
      }
    },
    {
      "cell_type": "markdown",
      "source": [
        " #Q10.How do you connect Flask to a SQL database?\n",
        "\n",
        "  =Use SQLAlchemy or Flask-SQLAlchemy to define models and connect using"
      ],
      "metadata": {
        "id": "3ulEVBsUhUUP"
      }
    },
    {
      "cell_type": "markdown",
      "source": [
        "#Q11.What is the role of Flask-SQLAlchemy?\n",
        " =It integrates SQLAlchemy ORM into Flask, allowing easy database interaction through Python classes and objects."
      ],
      "metadata": {
        "id": "BDoviYGEhicV"
      }
    },
    {
      "cell_type": "markdown",
      "source": [
        "#Q12.What are Flask blueprints, and how are they useful?\n",
        " =Blueprints allow modular design by splitting the app into components. Each blueprint handles routes and logic for a feature or module."
      ],
      "metadata": {
        "id": "q3jF-_TshnY4"
      }
    },
    {
      "cell_type": "markdown",
      "source": [
        "#Q13. What is the purpose of Flask's request object?\n",
        " =request provides access to incoming request data like form inputs, query parameters, headers, and JSON body."
      ],
      "metadata": {
        "id": "bHLLHYxMhug_"
      }
    },
    {
      "cell_type": "code",
      "source": [
        "#Q14. How do you create a RESTful API endpoint using Flask?\n",
        "\n",
        "from flask import Flask, jsonify  # No space at the beginning\n",
        "\n",
        "app = Flask(__name__)  # This line must also start at column 0\n",
        "\n",
        "@app.route('/api/data', methods=['GET'])\n",
        "def get_data():\n",
        "    return jsonify({'message': 'Hello API'})\n",
        "\n",
        "if __name__ == '__main__':\n",
        "    app.run(debug=True)\n",
        "\n"
      ],
      "metadata": {
        "colab": {
          "base_uri": "https://localhost:8080/"
        },
        "id": "Ccz0-PF9h6yA",
        "outputId": "06d758f3-8263-4485-fd51-fdb467b77b43"
      },
      "execution_count": 12,
      "outputs": [
        {
          "output_type": "stream",
          "name": "stdout",
          "text": [
            " * Serving Flask app '__main__'\n",
            " * Debug mode: on\n"
          ]
        },
        {
          "output_type": "stream",
          "name": "stderr",
          "text": [
            "INFO:werkzeug:\u001b[31m\u001b[1mWARNING: This is a development server. Do not use it in a production deployment. Use a production WSGI server instead.\u001b[0m\n",
            " * Running on http://127.0.0.1:5000\n",
            "INFO:werkzeug:\u001b[33mPress CTRL+C to quit\u001b[0m\n",
            "INFO:werkzeug: * Restarting with stat\n"
          ]
        }
      ]
    },
    {
      "cell_type": "markdown",
      "source": [
        "#15.What is the purpose of Flask's jsonify() function?\n",
        " =It converts Python dictionaries or lists into a valid JSON response with proper headers."
      ],
      "metadata": {
        "id": "P6Nj-iaqkIIN"
      }
    },
    {
      "cell_type": "markdown",
      "source": [
        "#Q16.Explain Flask’s url_for() function?\n",
        " =url_for('function_name') generates the URL for a view function, helpful for redirects or linking without hardcoding paths."
      ],
      "metadata": {
        "id": "vTrg7voWkPqw"
      }
    },
    {
      "cell_type": "markdown",
      "source": [
        "#Q17.How does Flask handle static files (CSS, JavaScript, etc.)?\n",
        " =Flask automatically serves files from the static/ directory. Access via /static/<filename>."
      ],
      "metadata": {
        "id": "6p8Xfip1kdnN"
      }
    },
    {
      "cell_type": "markdown",
      "source": [
        "#Q18.What is an API specification, and how does it help in building a Flask API?\n",
        " =It defines how the API should behave, helping developers understand endpoints, methods, and formats. It improves documentation and integration."
      ],
      "metadata": {
        "id": "wnpX0oxjkqgX"
      }
    },
    {
      "cell_type": "markdown",
      "source": [
        "#Q19. What are HTTP status codes, and why are they important in a Flask API4?\n",
        " =They indicate the result of an HTTP request. E.g., 200 (OK), 404 (Not Found), 500 (Server Error). They help clients understand the response state."
      ],
      "metadata": {
        "id": "OEQf680YlxSe"
      }
    },
    {
      "cell_type": "markdown",
      "source": [
        "#Q20. How do you handle POST requests in Flask?\n",
        " =Use the request.form or request.get_json() methods"
      ],
      "metadata": {
        "id": "-IGor80Dl4l8"
      }
    },
    {
      "cell_type": "markdown",
      "source": [
        "#Q21.How would you secure a Flask API?\n",
        " =Use HTTPS\n",
        "\n",
        "Validate inputs\n",
        "\n",
        "Use token-based authentication (JWT, OAuth)\n",
        "\n",
        "Rate limiting\n",
        "\n",
        "Error handling\n",
        "\n",
        "Avoid exposing sensitive data"
      ],
      "metadata": {
        "id": "kUUtUgDNl-yQ"
      }
    },
    {
      "cell_type": "markdown",
      "source": [
        "#Q22. What is the significance of the Flask-RESTful extension?\n",
        " =It simplifies API development by providing resource-based classes, automatic routing, and request parsing."
      ],
      "metadata": {
        "id": "QNbslZ4bmiEN"
      }
    },
    {
      "cell_type": "markdown",
      "source": [
        "#Q23.What is the role of Flask’s session object?\n",
        " =It stores user-specific data across requests using a signed cookie. Useful for maintaining login status or preferences."
      ],
      "metadata": {
        "id": "awDVrPSUmp25"
      }
    },
    {
      "cell_type": "code",
      "source": [
        "#Q24. How do you create a basic Flask application?\n",
        "from flask import Flask\n",
        "\n",
        "app = Flask(__name__)\n",
        "\n",
        "@app.route('/')\n",
        "def home():\n",
        "    return 'Hello, Flask!'\n",
        "\n",
        "if __name__ == '__main__':\n",
        "    app.run(debug=True)\n"
      ],
      "metadata": {
        "colab": {
          "base_uri": "https://localhost:8080/"
        },
        "id": "446t9s28nfxd",
        "outputId": "39dadfde-4012-401a-97b1-e87baeb64cfd"
      },
      "execution_count": 14,
      "outputs": [
        {
          "output_type": "stream",
          "name": "stdout",
          "text": [
            " * Serving Flask app '__main__'\n",
            " * Debug mode: on\n"
          ]
        },
        {
          "output_type": "stream",
          "name": "stderr",
          "text": [
            "INFO:werkzeug:\u001b[31m\u001b[1mWARNING: This is a development server. Do not use it in a production deployment. Use a production WSGI server instead.\u001b[0m\n",
            " * Running on http://127.0.0.1:5000\n",
            "INFO:werkzeug:\u001b[33mPress CTRL+C to quit\u001b[0m\n",
            "INFO:werkzeug: * Restarting with stat\n"
          ]
        }
      ]
    },
    {
      "cell_type": "markdown",
      "source": [
        "#Q25.How do you serve static files like images or CSS in Flask?\n",
        " =Place files in the static/ folder."
      ],
      "metadata": {
        "id": "4XdGqjF5pevH"
      }
    },
    {
      "cell_type": "code",
      "source": [
        "#Q26.How do you define different routes with different HTTP methods in Flask?\n",
        "from flask import Flask, request\n",
        "\n",
        "app = Flask(__name__)\n",
        "\n",
        "@app.route('/submit', methods=['GET', 'POST'])\n",
        "def submit():\n",
        "    if request.method == 'POST':\n",
        "        return \"POST Request\"\n",
        "    return \"GET Request\"\n",
        "\n",
        "if __name__ == '__main__':\n",
        "    app.run()\n"
      ],
      "metadata": {
        "colab": {
          "base_uri": "https://localhost:8080/"
        },
        "id": "q0oCmITWptdv",
        "outputId": "63bb76cf-faac-40fc-83c7-3c34d161d253"
      },
      "execution_count": 9,
      "outputs": [
        {
          "output_type": "stream",
          "name": "stdout",
          "text": [
            " * Serving Flask app '__main__'\n",
            " * Debug mode: off\n"
          ]
        },
        {
          "output_type": "stream",
          "name": "stderr",
          "text": [
            "INFO:werkzeug:\u001b[31m\u001b[1mWARNING: This is a development server. Do not use it in a production deployment. Use a production WSGI server instead.\u001b[0m\n",
            " * Running on http://127.0.0.1:5000\n",
            "INFO:werkzeug:\u001b[33mPress CTRL+C to quit\u001b[0m\n"
          ]
        }
      ]
    },
    {
      "cell_type": "markdown",
      "source": [
        "#Q27. How do you render HTML templates in Flask?\n",
        "\n",
        " =Place your HTML files in a folder named templates/."
      ],
      "metadata": {
        "id": "7psTx2k5p7Ds"
      }
    },
    {
      "cell_type": "code",
      "source": [
        "#Q28. How can you generate URLs for routes in Flask using url_for?\n",
        "from flask import Flask, url_for\n",
        "\n",
        "app = Flask(__name__)\n",
        "\n",
        "@app.route('/')\n",
        "def home():\n",
        "    return 'Home Page'\n",
        "\n",
        "@app.route('/about')\n",
        "def about():\n",
        "    return url_for('home')  # Returns '/'\n"
      ],
      "metadata": {
        "id": "TuzM_s7NqC2h"
      },
      "execution_count": 15,
      "outputs": []
    },
    {
      "cell_type": "code",
      "source": [
        "#Q29.How do you handle forms in Flask?\n",
        "from flask import Flask, request, render_template\n",
        "\n",
        "app = Flask(__name__)\n",
        "\n",
        "@app.route('/form', methods=['GET', 'POST'])\n",
        "def form():\n",
        "    if request.method == 'POST':\n",
        "        name = request.form['name']\n",
        "        return f'Hello, {name}'\n",
        "    return render_template('form.html')"
      ],
      "metadata": {
        "id": "0BLWDiTWqcJt"
      },
      "execution_count": 16,
      "outputs": []
    },
    {
      "cell_type": "code",
      "source": [
        "#Q30.How can you validate form data in Flask?\n",
        "from flask import Flask, request, render_template\n",
        "\n",
        "app = Flask(__name__)\n",
        "\n",
        "@app.route('/register', methods=['GET', 'POST'])\n",
        "def register():\n",
        "    if request.method == 'POST':\n",
        "        username = request.form.get('username')\n",
        "        email = request.form.get('email')\n",
        "\n",
        "        # Manual validation\n",
        "        if not username or not email:\n",
        "            return \"Username and Email are required\", 400\n",
        "\n",
        "        return f\"Registered with {username}, {email}\"\n",
        "\n",
        "    return render_template('register.html')\n"
      ],
      "metadata": {
        "id": "bAafluB6qmcv"
      },
      "execution_count": 19,
      "outputs": []
    },
    {
      "cell_type": "code",
      "source": [
        "#Q31.How do you manage sessions in Flask?\n",
        "from flask import Flask, session\n",
        "\n",
        "app = Flask(__name__)\n",
        "app.secret_key = 'secret'  # Required for sessions\n",
        "\n",
        "@app.route('/set/')\n",
        "def set_session():\n",
        "    session['user'] = 'John'\n",
        "    return 'Session set'\n",
        "\n",
        "@app.route('/get/')\n",
        "def get_session():\n",
        "    return session.get('user', 'Not set')\n"
      ],
      "metadata": {
        "id": "80yB8tuZrJVq"
      },
      "execution_count": 20,
      "outputs": []
    },
    {
      "cell_type": "code",
      "source": [
        "#Q32. How do you redirect to a different route in Flask?\n",
        "from flask import Flask, redirect, url_for\n",
        "\n",
        "app = Flask(__name__)\n",
        "\n",
        "@app.route('/')\n",
        "def home():\n",
        "    return redirect(url_for('about'))\n",
        "\n",
        "@app.route('/about')\n",
        "def about():\n",
        "    return 'About Page'\n"
      ],
      "metadata": {
        "id": "9IIuDJxQrQ_C"
      },
      "execution_count": 21,
      "outputs": []
    },
    {
      "cell_type": "code",
      "source": [
        "#Q33. How do you handle errors in Flask (e.g., 404)?\n",
        "@app.errorhandler(404)\n",
        "def page_not_found(e):\n",
        "    return '404 Page Not Found', 404\n"
      ],
      "metadata": {
        "id": "KQJ6Unq3rYGt"
      },
      "execution_count": 22,
      "outputs": []
    },
    {
      "cell_type": "code",
      "source": [
        "#Q34. How do you structure a Flask app using Blueprints?\n",
        "from flask import Blueprint, render_template\n",
        "\n",
        "home_bp = Blueprint('home', __name__)\n",
        "\n",
        "@home_bp.route('/')\n",
        "def home():\n",
        "    return render_template('home.html')\n"
      ],
      "metadata": {
        "id": "gNmMJd7ZrgEP"
      },
      "execution_count": 23,
      "outputs": []
    },
    {
      "cell_type": "code",
      "source": [
        "#Q35. How do you define a custom Jinja filter in Flask?\n",
        "@app.template_filter('reverse')\n",
        "def reverse_filter(s):\n",
        "    return s[::-1]\n"
      ],
      "metadata": {
        "id": "WFEEjJehrvPP"
      },
      "execution_count": 24,
      "outputs": []
    },
    {
      "cell_type": "code",
      "source": [
        "#Q36.How can you redirect with query parameters in Flask?\n",
        "from flask import redirect, url_for\n",
        "\n",
        "@app.route('/search')\n",
        "def search():\n",
        "    return redirect(url_for('result', q='flask'))\n",
        "\n",
        "@app.route('/result')\n",
        "def result():\n",
        "    query = request.args.get('q')\n",
        "    return f'Search query: {query}'\n"
      ],
      "metadata": {
        "id": "LVOPUYewr6g_"
      },
      "execution_count": 25,
      "outputs": []
    },
    {
      "cell_type": "code",
      "source": [
        "#Q37. How do you return JSON responses in Flask?\n",
        "from flask import jsonify\n",
        "\n",
        "@app.route('/api')\n",
        "def api():\n",
        "    return jsonify({'message': 'Hello, JSON'})\n"
      ],
      "metadata": {
        "id": "q4Z2Z7TFsA5a"
      },
      "execution_count": 26,
      "outputs": []
    },
    {
      "cell_type": "code",
      "source": [
        "#Q38. How do you capture URL parameters in Flask?\n",
        "@app.route('/user/<username>')\n",
        "def profile(username):\n",
        "    return f'User: {username}'\n"
      ],
      "metadata": {
        "id": "Vgoa6sgcsGjn"
      },
      "execution_count": 27,
      "outputs": []
    }
  ]
}